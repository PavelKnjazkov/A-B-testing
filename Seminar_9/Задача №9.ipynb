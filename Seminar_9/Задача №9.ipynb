{
  "nbformat": 4,
  "nbformat_minor": 0,
  "metadata": {
    "colab": {
      "provenance": []
    },
    "kernelspec": {
      "name": "python3",
      "display_name": "Python 3"
    },
    "language_info": {
      "name": "python"
    }
  },
  "cells": [
    {
      "cell_type": "code",
      "source": [
        "!pip install -q -U watermark"
      ],
      "metadata": {
        "colab": {
          "base_uri": "https://localhost:8080/"
        },
        "id": "zgu8q4bmC_RN",
        "outputId": "6d304021-6a0e-4001-838d-ecbbcfe176fa"
      },
      "execution_count": 2,
      "outputs": [
        {
          "output_type": "stream",
          "name": "stdout",
          "text": [
            "\u001b[?25l     \u001b[90m━━━━━━━━━━━━━━━━━━━━━━━━━━━━━━━━━━━━━━━━\u001b[0m \u001b[32m0.0/1.6 MB\u001b[0m \u001b[31m?\u001b[0m eta \u001b[36m-:--:--\u001b[0m\r\u001b[2K     \u001b[91m━━━━━━━━━━━━━━━━━━━━━━━━━━━━━━━━━━━━━━━\u001b[0m\u001b[91m╸\u001b[0m \u001b[32m1.6/1.6 MB\u001b[0m \u001b[31m88.9 MB/s\u001b[0m eta \u001b[36m0:00:01\u001b[0m\r\u001b[2K     \u001b[90m━━━━━━━━━━━━━━━━━━━━━━━━━━━━━━━━━━━━━━━━\u001b[0m \u001b[32m1.6/1.6 MB\u001b[0m \u001b[31m39.9 MB/s\u001b[0m eta \u001b[36m0:00:00\u001b[0m\n",
            "\u001b[?25h"
          ]
        }
      ]
    },
    {
      "cell_type": "markdown",
      "source": [
        "Импортируем нужные библиотеки:"
      ],
      "metadata": {
        "id": "K5bwAO2GDwk_"
      }
    },
    {
      "cell_type": "code",
      "source": [
        "import itertools\n",
        "import numpy as np\n",
        "import pandas as pd\n",
        "import matplotlib.pyplot as plt\n",
        "import seaborn as sns\n",
        "import statsmodels.stats.api as sms\n",
        "from scipy.stats import ttest_1samp, shapiro, levene, ttest_ind, mannwhitneyu, pearsonr, spearmanr, \\\n",
        "    kendalltau, f_oneway, kruskal"
      ],
      "metadata": {
        "id": "Ma1jNky8DwCA"
      },
      "execution_count": 43,
      "outputs": []
    },
    {
      "cell_type": "markdown",
      "source": [
        "Версии пакетов, используемых в этом Jupiter Netbook"
      ],
      "metadata": {
        "id": "qHLSeXW7Ece1"
      }
    },
    {
      "cell_type": "code",
      "source": [
        "%reload_ext watermark\n",
        "%watermark -a \"Ющенко Михаил\" --iversions"
      ],
      "metadata": {
        "colab": {
          "base_uri": "https://localhost:8080/"
        },
        "id": "vpv-8BGKExjV",
        "outputId": "72e43359-07a3-4943-d0de-174e7956f7e8"
      },
      "execution_count": 44,
      "outputs": [
        {
          "output_type": "stream",
          "name": "stdout",
          "text": [
            "Author: Ющенко Михаил\n",
            "\n",
            "seaborn    : 0.12.2\n",
            "matplotlib : 3.7.1\n",
            "numpy      : 1.22.4\n",
            "pandas     : 1.4.4\n",
            "statsmodels: 0.13.5\n",
            "\n"
          ]
        }
      ]
    },
    {
      "cell_type": "markdown",
      "source": [
        "# **Анализ** **исследования:**\n"
      ],
      "metadata": {
        "id": "Y0buKn09Fui8"
      }
    },
    {
      "cell_type": "markdown",
      "source": [
        "userid: уникальный номер, который идентифицирует каждого игрока.\n",
        "\n",
        "version = Был ли игрок поставлен в контрольную группу (gate_30 - ворота 30 уровня) или в группу с перемещенными воротами (gate_40 - ворота 40 уровня).\n",
        "\n",
        "sumgamerounds = количество раундов, сыгранных каждым игроком в течение первых 14 дней после установки.\n",
        "\n",
        "retention_1 = Вернулся ли игрок в игру через 1 день после установки.\n",
        "\n",
        "retention_7 = Вернулся ли игрок в игру через 7 дней после установки."
      ],
      "metadata": {
        "id": "8RfNFOkZKT31"
      }
    },
    {
      "cell_type": "code",
      "source": [
        "df = pd.read_csv(r\"cookie_cats.csv\", encoding= 'unicode_escape')\n",
        "df"
      ],
      "metadata": {
        "colab": {
          "base_uri": "https://localhost:8080/",
          "height": 423
        },
        "id": "9pxX2OKeGROc",
        "outputId": "b0da549a-34f1-445a-eb61-e339057dbfa6"
      },
      "execution_count": 46,
      "outputs": [
        {
          "output_type": "execute_result",
          "data": {
            "text/plain": [
              "        userid  version  sum_gamerounds  retention_1  retention_7\n",
              "0          116  gate_30               3        False        False\n",
              "1          337  gate_30              38         True        False\n",
              "2          377  gate_40             165         True        False\n",
              "3          483  gate_40               1        False        False\n",
              "4          488  gate_40             179         True         True\n",
              "...        ...      ...             ...          ...          ...\n",
              "90184  9999441  gate_40              97         True        False\n",
              "90185  9999479  gate_40              30        False        False\n",
              "90186  9999710  gate_30              28         True        False\n",
              "90187  9999768  gate_40              51         True        False\n",
              "90188  9999861  gate_40              16        False        False\n",
              "\n",
              "[90189 rows x 5 columns]"
            ],
            "text/html": [
              "\n",
              "  <div id=\"df-08599de7-288d-4983-a038-2b5894b8041d\">\n",
              "    <div class=\"colab-df-container\">\n",
              "      <div>\n",
              "<style scoped>\n",
              "    .dataframe tbody tr th:only-of-type {\n",
              "        vertical-align: middle;\n",
              "    }\n",
              "\n",
              "    .dataframe tbody tr th {\n",
              "        vertical-align: top;\n",
              "    }\n",
              "\n",
              "    .dataframe thead th {\n",
              "        text-align: right;\n",
              "    }\n",
              "</style>\n",
              "<table border=\"1\" class=\"dataframe\">\n",
              "  <thead>\n",
              "    <tr style=\"text-align: right;\">\n",
              "      <th></th>\n",
              "      <th>userid</th>\n",
              "      <th>version</th>\n",
              "      <th>sum_gamerounds</th>\n",
              "      <th>retention_1</th>\n",
              "      <th>retention_7</th>\n",
              "    </tr>\n",
              "  </thead>\n",
              "  <tbody>\n",
              "    <tr>\n",
              "      <th>0</th>\n",
              "      <td>116</td>\n",
              "      <td>gate_30</td>\n",
              "      <td>3</td>\n",
              "      <td>False</td>\n",
              "      <td>False</td>\n",
              "    </tr>\n",
              "    <tr>\n",
              "      <th>1</th>\n",
              "      <td>337</td>\n",
              "      <td>gate_30</td>\n",
              "      <td>38</td>\n",
              "      <td>True</td>\n",
              "      <td>False</td>\n",
              "    </tr>\n",
              "    <tr>\n",
              "      <th>2</th>\n",
              "      <td>377</td>\n",
              "      <td>gate_40</td>\n",
              "      <td>165</td>\n",
              "      <td>True</td>\n",
              "      <td>False</td>\n",
              "    </tr>\n",
              "    <tr>\n",
              "      <th>3</th>\n",
              "      <td>483</td>\n",
              "      <td>gate_40</td>\n",
              "      <td>1</td>\n",
              "      <td>False</td>\n",
              "      <td>False</td>\n",
              "    </tr>\n",
              "    <tr>\n",
              "      <th>4</th>\n",
              "      <td>488</td>\n",
              "      <td>gate_40</td>\n",
              "      <td>179</td>\n",
              "      <td>True</td>\n",
              "      <td>True</td>\n",
              "    </tr>\n",
              "    <tr>\n",
              "      <th>...</th>\n",
              "      <td>...</td>\n",
              "      <td>...</td>\n",
              "      <td>...</td>\n",
              "      <td>...</td>\n",
              "      <td>...</td>\n",
              "    </tr>\n",
              "    <tr>\n",
              "      <th>90184</th>\n",
              "      <td>9999441</td>\n",
              "      <td>gate_40</td>\n",
              "      <td>97</td>\n",
              "      <td>True</td>\n",
              "      <td>False</td>\n",
              "    </tr>\n",
              "    <tr>\n",
              "      <th>90185</th>\n",
              "      <td>9999479</td>\n",
              "      <td>gate_40</td>\n",
              "      <td>30</td>\n",
              "      <td>False</td>\n",
              "      <td>False</td>\n",
              "    </tr>\n",
              "    <tr>\n",
              "      <th>90186</th>\n",
              "      <td>9999710</td>\n",
              "      <td>gate_30</td>\n",
              "      <td>28</td>\n",
              "      <td>True</td>\n",
              "      <td>False</td>\n",
              "    </tr>\n",
              "    <tr>\n",
              "      <th>90187</th>\n",
              "      <td>9999768</td>\n",
              "      <td>gate_40</td>\n",
              "      <td>51</td>\n",
              "      <td>True</td>\n",
              "      <td>False</td>\n",
              "    </tr>\n",
              "    <tr>\n",
              "      <th>90188</th>\n",
              "      <td>9999861</td>\n",
              "      <td>gate_40</td>\n",
              "      <td>16</td>\n",
              "      <td>False</td>\n",
              "      <td>False</td>\n",
              "    </tr>\n",
              "  </tbody>\n",
              "</table>\n",
              "<p>90189 rows × 5 columns</p>\n",
              "</div>\n",
              "      <button class=\"colab-df-convert\" onclick=\"convertToInteractive('df-08599de7-288d-4983-a038-2b5894b8041d')\"\n",
              "              title=\"Convert this dataframe to an interactive table.\"\n",
              "              style=\"display:none;\">\n",
              "        \n",
              "  <svg xmlns=\"http://www.w3.org/2000/svg\" height=\"24px\"viewBox=\"0 0 24 24\"\n",
              "       width=\"24px\">\n",
              "    <path d=\"M0 0h24v24H0V0z\" fill=\"none\"/>\n",
              "    <path d=\"M18.56 5.44l.94 2.06.94-2.06 2.06-.94-2.06-.94-.94-2.06-.94 2.06-2.06.94zm-11 1L8.5 8.5l.94-2.06 2.06-.94-2.06-.94L8.5 2.5l-.94 2.06-2.06.94zm10 10l.94 2.06.94-2.06 2.06-.94-2.06-.94-.94-2.06-.94 2.06-2.06.94z\"/><path d=\"M17.41 7.96l-1.37-1.37c-.4-.4-.92-.59-1.43-.59-.52 0-1.04.2-1.43.59L10.3 9.45l-7.72 7.72c-.78.78-.78 2.05 0 2.83L4 21.41c.39.39.9.59 1.41.59.51 0 1.02-.2 1.41-.59l7.78-7.78 2.81-2.81c.8-.78.8-2.07 0-2.86zM5.41 20L4 18.59l7.72-7.72 1.47 1.35L5.41 20z\"/>\n",
              "  </svg>\n",
              "      </button>\n",
              "      \n",
              "  <style>\n",
              "    .colab-df-container {\n",
              "      display:flex;\n",
              "      flex-wrap:wrap;\n",
              "      gap: 12px;\n",
              "    }\n",
              "\n",
              "    .colab-df-convert {\n",
              "      background-color: #E8F0FE;\n",
              "      border: none;\n",
              "      border-radius: 50%;\n",
              "      cursor: pointer;\n",
              "      display: none;\n",
              "      fill: #1967D2;\n",
              "      height: 32px;\n",
              "      padding: 0 0 0 0;\n",
              "      width: 32px;\n",
              "    }\n",
              "\n",
              "    .colab-df-convert:hover {\n",
              "      background-color: #E2EBFA;\n",
              "      box-shadow: 0px 1px 2px rgba(60, 64, 67, 0.3), 0px 1px 3px 1px rgba(60, 64, 67, 0.15);\n",
              "      fill: #174EA6;\n",
              "    }\n",
              "\n",
              "    [theme=dark] .colab-df-convert {\n",
              "      background-color: #3B4455;\n",
              "      fill: #D2E3FC;\n",
              "    }\n",
              "\n",
              "    [theme=dark] .colab-df-convert:hover {\n",
              "      background-color: #434B5C;\n",
              "      box-shadow: 0px 1px 3px 1px rgba(0, 0, 0, 0.15);\n",
              "      filter: drop-shadow(0px 1px 2px rgba(0, 0, 0, 0.3));\n",
              "      fill: #FFFFFF;\n",
              "    }\n",
              "  </style>\n",
              "\n",
              "      <script>\n",
              "        const buttonEl =\n",
              "          document.querySelector('#df-08599de7-288d-4983-a038-2b5894b8041d button.colab-df-convert');\n",
              "        buttonEl.style.display =\n",
              "          google.colab.kernel.accessAllowed ? 'block' : 'none';\n",
              "\n",
              "        async function convertToInteractive(key) {\n",
              "          const element = document.querySelector('#df-08599de7-288d-4983-a038-2b5894b8041d');\n",
              "          const dataTable =\n",
              "            await google.colab.kernel.invokeFunction('convertToInteractive',\n",
              "                                                     [key], {});\n",
              "          if (!dataTable) return;\n",
              "\n",
              "          const docLinkHtml = 'Like what you see? Visit the ' +\n",
              "            '<a target=\"_blank\" href=https://colab.research.google.com/notebooks/data_table.ipynb>data table notebook</a>'\n",
              "            + ' to learn more about interactive tables.';\n",
              "          element.innerHTML = '';\n",
              "          dataTable['output_type'] = 'display_data';\n",
              "          await google.colab.output.renderOutput(dataTable, element);\n",
              "          const docLink = document.createElement('div');\n",
              "          docLink.innerHTML = docLinkHtml;\n",
              "          element.appendChild(docLink);\n",
              "        }\n",
              "      </script>\n",
              "    </div>\n",
              "  </div>\n",
              "  "
            ]
          },
          "metadata": {},
          "execution_count": 46
        }
      ]
    },
    {
      "cell_type": "code",
      "source": [
        "df.shape"
      ],
      "metadata": {
        "colab": {
          "base_uri": "https://localhost:8080/"
        },
        "id": "j4ME9i41M209",
        "outputId": "19899a96-6a7e-4ea4-c04e-4898bd6812e9"
      },
      "execution_count": 47,
      "outputs": [
        {
          "output_type": "execute_result",
          "data": {
            "text/plain": [
              "(90189, 5)"
            ]
          },
          "metadata": {},
          "execution_count": 47
        }
      ]
    },
    {
      "cell_type": "code",
      "source": [
        "df.info()"
      ],
      "metadata": {
        "colab": {
          "base_uri": "https://localhost:8080/"
        },
        "id": "UiyDYEkdNJcv",
        "outputId": "68cc6bc2-10d0-4edc-d7f5-f143b269ff47"
      },
      "execution_count": 48,
      "outputs": [
        {
          "output_type": "stream",
          "name": "stdout",
          "text": [
            "<class 'pandas.core.frame.DataFrame'>\n",
            "RangeIndex: 90189 entries, 0 to 90188\n",
            "Data columns (total 5 columns):\n",
            " #   Column          Non-Null Count  Dtype \n",
            "---  ------          --------------  ----- \n",
            " 0   userid          90189 non-null  int64 \n",
            " 1   version         90189 non-null  object\n",
            " 2   sum_gamerounds  90189 non-null  int64 \n",
            " 3   retention_1     90189 non-null  bool  \n",
            " 4   retention_7     90189 non-null  bool  \n",
            "dtypes: bool(2), int64(2), object(1)\n",
            "memory usage: 2.2+ MB\n"
          ]
        }
      ]
    },
    {
      "cell_type": "code",
      "source": [
        "df.isnull().sum()"
      ],
      "metadata": {
        "colab": {
          "base_uri": "https://localhost:8080/"
        },
        "id": "qB_N8FAcNVDc",
        "outputId": "2d3d6437-5efa-4c51-96d4-d5989b25ece0"
      },
      "execution_count": 49,
      "outputs": [
        {
          "output_type": "execute_result",
          "data": {
            "text/plain": [
              "userid            0\n",
              "version           0\n",
              "sum_gamerounds    0\n",
              "retention_1       0\n",
              "retention_7       0\n",
              "dtype: int64"
            ]
          },
          "metadata": {},
          "execution_count": 49
        }
      ]
    },
    {
      "cell_type": "markdown",
      "source": [
        "Удержание в течении 1 дня после установки:\n"
      ],
      "metadata": {
        "id": "B2zImGl0Nu_0"
      }
    },
    {
      "cell_type": "code",
      "source": [
        "df.retention_1.value_counts()"
      ],
      "metadata": {
        "colab": {
          "base_uri": "https://localhost:8080/"
        },
        "id": "re_9SQkQNh0l",
        "outputId": "b257cd2a-dc4a-432c-ec0e-28b3d130e92a"
      },
      "execution_count": 50,
      "outputs": [
        {
          "output_type": "execute_result",
          "data": {
            "text/plain": [
              "False    50036\n",
              "True     40153\n",
              "Name: retention_1, dtype: int64"
            ]
          },
          "metadata": {},
          "execution_count": 50
        }
      ]
    },
    {
      "cell_type": "markdown",
      "source": [
        "Удержание в течении 7 дней после установки:"
      ],
      "metadata": {
        "id": "OEjRHKrvTQzF"
      }
    },
    {
      "cell_type": "code",
      "source": [
        "df.retention_7.value_counts()"
      ],
      "metadata": {
        "colab": {
          "base_uri": "https://localhost:8080/"
        },
        "id": "RgfP1YihTPdd",
        "outputId": "53be6676-7d3a-461c-847e-4adce3c4dfa8"
      },
      "execution_count": 51,
      "outputs": [
        {
          "output_type": "execute_result",
          "data": {
            "text/plain": [
              "False    73408\n",
              "True     16781\n",
              "Name: retention_7, dtype: int64"
            ]
          },
          "metadata": {},
          "execution_count": 51
        }
      ]
    },
    {
      "cell_type": "code",
      "source": [
        "df.shape"
      ],
      "metadata": {
        "colab": {
          "base_uri": "https://localhost:8080/"
        },
        "id": "x9O7C5CMhSgc",
        "outputId": "b4ff91ed-6c55-49fc-8bf4-f99a6685b594"
      },
      "execution_count": 54,
      "outputs": [
        {
          "output_type": "execute_result",
          "data": {
            "text/plain": [
              "(90189, 5)"
            ]
          },
          "metadata": {},
          "execution_count": 54
        }
      ]
    },
    {
      "cell_type": "code",
      "source": [
        "def check_df(dataframe, head=5):\n",
        "    print(\"########## Info #############\")\n",
        "    print(dataframe.info())\n",
        "    print(\"########## Shape #############\")\n",
        "    print(dataframe.shape)\n",
        "    print(\"########## Data Types #############\")\n",
        "    print(dataframe.dtypes)\n",
        "    print(\"########## Head of Data #############\")\n",
        "    print(dataframe.head(head))\n",
        "    print(\"########## Tail of Data #############\")\n",
        "    print(dataframe.tail(head))\n",
        "    print(\"########## Null Values of Data #############\")\n",
        "    print(dataframe.isnull().sum())\n",
        "    print(\"########## Describe of the Numerical Datas #############\")\n",
        "    print(dataframe.describe([0, 0.05, 0.50, 0.95, 0.99, 1]).T)\n",
        "\n",
        "check_df(df)"
      ],
      "metadata": {
        "colab": {
          "base_uri": "https://localhost:8080/"
        },
        "id": "aaT27-Unh_ad",
        "outputId": "4cb7a614-707d-4769-cb50-95e97504a1be"
      },
      "execution_count": 55,
      "outputs": [
        {
          "output_type": "stream",
          "name": "stdout",
          "text": [
            "########## Info #############\n",
            "<class 'pandas.core.frame.DataFrame'>\n",
            "RangeIndex: 90189 entries, 0 to 90188\n",
            "Data columns (total 5 columns):\n",
            " #   Column          Non-Null Count  Dtype \n",
            "---  ------          --------------  ----- \n",
            " 0   userid          90189 non-null  int64 \n",
            " 1   version         90189 non-null  object\n",
            " 2   sum_gamerounds  90189 non-null  int64 \n",
            " 3   retention_1     90189 non-null  bool  \n",
            " 4   retention_7     90189 non-null  bool  \n",
            "dtypes: bool(2), int64(2), object(1)\n",
            "memory usage: 2.2+ MB\n",
            "None\n",
            "########## Shape #############\n",
            "(90189, 5)\n",
            "########## Data Types #############\n",
            "userid             int64\n",
            "version           object\n",
            "sum_gamerounds     int64\n",
            "retention_1         bool\n",
            "retention_7         bool\n",
            "dtype: object\n",
            "########## Head of Data #############\n",
            "   userid  version  sum_gamerounds  retention_1  retention_7\n",
            "0     116  gate_30               3        False        False\n",
            "1     337  gate_30              38         True        False\n",
            "2     377  gate_40             165         True        False\n",
            "3     483  gate_40               1        False        False\n",
            "4     488  gate_40             179         True         True\n",
            "########## Tail of Data #############\n",
            "        userid  version  sum_gamerounds  retention_1  retention_7\n",
            "90184  9999441  gate_40              97         True        False\n",
            "90185  9999479  gate_40              30        False        False\n",
            "90186  9999710  gate_30              28         True        False\n",
            "90187  9999768  gate_40              51         True        False\n",
            "90188  9999861  gate_40              16        False        False\n",
            "########## Null Values of Data #############\n",
            "userid            0\n",
            "version           0\n",
            "sum_gamerounds    0\n",
            "retention_1       0\n",
            "retention_7       0\n",
            "dtype: int64\n",
            "########## Describe of the Numerical Datas #############\n",
            "                  count          mean           std    min     0%        5%  \\\n",
            "userid          90189.0  4.998412e+06  2.883286e+06  116.0  116.0  502935.0   \n",
            "sum_gamerounds  90189.0  5.187246e+01  1.950509e+02    0.0    0.0       1.0   \n",
            "\n",
            "                      50%        95%         99%       100%        max  \n",
            "userid          4995815.0  9492761.6  9899751.28  9999861.0  9999861.0  \n",
            "sum_gamerounds       16.0      221.0      493.00    49854.0    49854.0  \n"
          ]
        }
      ]
    },
    {
      "cell_type": "markdown",
      "source": [
        "Перед началом анализа, согласно сводке набора данных, набор данных имеет 5 переменных. Давайте проверим их:\n",
        "\n",
        "userid: уникальный номер, который идентифицирует каждого игрока.\n",
        "\n",
        "version: Был ли игрок поставлен в контрольную группу (gate_30 - ворота 30 уровня) или в группу с перемещенными воротами (gate_40 - ворота 40 уровня).\n",
        "\n",
        "sum_gamerounds: количество игровых раундов, сыгранных игроком в течение первых 14 дней после установки.\n",
        "\n",
        "retention_1: Игрок вернулся через 1 день после установки?\n",
        "\n",
        "retention_7: Игрок вернулся через 7 дней после установки?\n",
        "\n",
        "\n",
        "\n",
        "\n",
        "Согласно быстрому анализу данных, в наборе данных нет нулевых данных, и все идентификаторы пользователей используются по отдельности."
      ],
      "metadata": {
        "id": "QEmcN4kg4LBs"
      }
    },
    {
      "cell_type": "markdown",
      "source": [
        "**Подготовка данных:**"
      ],
      "metadata": {
        "id": "GDHCq0bH6TyZ"
      }
    },
    {
      "cell_type": "markdown",
      "source": [
        "На этом этапе, если в наборе данных есть нулевые значения, то они удалятся из данных."
      ],
      "metadata": {
        "id": "NuKa0vqW7cLX"
      }
    },
    {
      "cell_type": "code",
      "source": [
        "# Команда dropna() поможет удалить нулевые значения из данных.\n",
        "\n",
        "df.shape\n",
        "df.isnull().sum()\n",
        "df.dropna(inplace = True)\n",
        "\n",
        "# Для проверки данных\n",
        "\n",
        "df.describe().T"
      ],
      "metadata": {
        "colab": {
          "base_uri": "https://localhost:8080/",
          "height": 112
        },
        "id": "Sf3Z6YSm7OeE",
        "outputId": "40757334-ebf5-49ae-debe-389c0113580d"
      },
      "execution_count": 56,
      "outputs": [
        {
          "output_type": "execute_result",
          "data": {
            "text/plain": [
              "                  count          mean           std    min        25%  \\\n",
              "userid          90189.0  4.998412e+06  2.883286e+06  116.0  2512230.0   \n",
              "sum_gamerounds  90189.0  5.187246e+01  1.950509e+02    0.0        5.0   \n",
              "\n",
              "                      50%        75%        max  \n",
              "userid          4995815.0  7496452.0  9999861.0  \n",
              "sum_gamerounds       16.0       51.0    49854.0  "
            ],
            "text/html": [
              "\n",
              "  <div id=\"df-186ec62f-7577-4435-ac91-7eb77023d977\">\n",
              "    <div class=\"colab-df-container\">\n",
              "      <div>\n",
              "<style scoped>\n",
              "    .dataframe tbody tr th:only-of-type {\n",
              "        vertical-align: middle;\n",
              "    }\n",
              "\n",
              "    .dataframe tbody tr th {\n",
              "        vertical-align: top;\n",
              "    }\n",
              "\n",
              "    .dataframe thead th {\n",
              "        text-align: right;\n",
              "    }\n",
              "</style>\n",
              "<table border=\"1\" class=\"dataframe\">\n",
              "  <thead>\n",
              "    <tr style=\"text-align: right;\">\n",
              "      <th></th>\n",
              "      <th>count</th>\n",
              "      <th>mean</th>\n",
              "      <th>std</th>\n",
              "      <th>min</th>\n",
              "      <th>25%</th>\n",
              "      <th>50%</th>\n",
              "      <th>75%</th>\n",
              "      <th>max</th>\n",
              "    </tr>\n",
              "  </thead>\n",
              "  <tbody>\n",
              "    <tr>\n",
              "      <th>userid</th>\n",
              "      <td>90189.0</td>\n",
              "      <td>4.998412e+06</td>\n",
              "      <td>2.883286e+06</td>\n",
              "      <td>116.0</td>\n",
              "      <td>2512230.0</td>\n",
              "      <td>4995815.0</td>\n",
              "      <td>7496452.0</td>\n",
              "      <td>9999861.0</td>\n",
              "    </tr>\n",
              "    <tr>\n",
              "      <th>sum_gamerounds</th>\n",
              "      <td>90189.0</td>\n",
              "      <td>5.187246e+01</td>\n",
              "      <td>1.950509e+02</td>\n",
              "      <td>0.0</td>\n",
              "      <td>5.0</td>\n",
              "      <td>16.0</td>\n",
              "      <td>51.0</td>\n",
              "      <td>49854.0</td>\n",
              "    </tr>\n",
              "  </tbody>\n",
              "</table>\n",
              "</div>\n",
              "      <button class=\"colab-df-convert\" onclick=\"convertToInteractive('df-186ec62f-7577-4435-ac91-7eb77023d977')\"\n",
              "              title=\"Convert this dataframe to an interactive table.\"\n",
              "              style=\"display:none;\">\n",
              "        \n",
              "  <svg xmlns=\"http://www.w3.org/2000/svg\" height=\"24px\"viewBox=\"0 0 24 24\"\n",
              "       width=\"24px\">\n",
              "    <path d=\"M0 0h24v24H0V0z\" fill=\"none\"/>\n",
              "    <path d=\"M18.56 5.44l.94 2.06.94-2.06 2.06-.94-2.06-.94-.94-2.06-.94 2.06-2.06.94zm-11 1L8.5 8.5l.94-2.06 2.06-.94-2.06-.94L8.5 2.5l-.94 2.06-2.06.94zm10 10l.94 2.06.94-2.06 2.06-.94-2.06-.94-.94-2.06-.94 2.06-2.06.94z\"/><path d=\"M17.41 7.96l-1.37-1.37c-.4-.4-.92-.59-1.43-.59-.52 0-1.04.2-1.43.59L10.3 9.45l-7.72 7.72c-.78.78-.78 2.05 0 2.83L4 21.41c.39.39.9.59 1.41.59.51 0 1.02-.2 1.41-.59l7.78-7.78 2.81-2.81c.8-.78.8-2.07 0-2.86zM5.41 20L4 18.59l7.72-7.72 1.47 1.35L5.41 20z\"/>\n",
              "  </svg>\n",
              "      </button>\n",
              "      \n",
              "  <style>\n",
              "    .colab-df-container {\n",
              "      display:flex;\n",
              "      flex-wrap:wrap;\n",
              "      gap: 12px;\n",
              "    }\n",
              "\n",
              "    .colab-df-convert {\n",
              "      background-color: #E8F0FE;\n",
              "      border: none;\n",
              "      border-radius: 50%;\n",
              "      cursor: pointer;\n",
              "      display: none;\n",
              "      fill: #1967D2;\n",
              "      height: 32px;\n",
              "      padding: 0 0 0 0;\n",
              "      width: 32px;\n",
              "    }\n",
              "\n",
              "    .colab-df-convert:hover {\n",
              "      background-color: #E2EBFA;\n",
              "      box-shadow: 0px 1px 2px rgba(60, 64, 67, 0.3), 0px 1px 3px 1px rgba(60, 64, 67, 0.15);\n",
              "      fill: #174EA6;\n",
              "    }\n",
              "\n",
              "    [theme=dark] .colab-df-convert {\n",
              "      background-color: #3B4455;\n",
              "      fill: #D2E3FC;\n",
              "    }\n",
              "\n",
              "    [theme=dark] .colab-df-convert:hover {\n",
              "      background-color: #434B5C;\n",
              "      box-shadow: 0px 1px 3px 1px rgba(0, 0, 0, 0.15);\n",
              "      filter: drop-shadow(0px 1px 2px rgba(0, 0, 0, 0.3));\n",
              "      fill: #FFFFFF;\n",
              "    }\n",
              "  </style>\n",
              "\n",
              "      <script>\n",
              "        const buttonEl =\n",
              "          document.querySelector('#df-186ec62f-7577-4435-ac91-7eb77023d977 button.colab-df-convert');\n",
              "        buttonEl.style.display =\n",
              "          google.colab.kernel.accessAllowed ? 'block' : 'none';\n",
              "\n",
              "        async function convertToInteractive(key) {\n",
              "          const element = document.querySelector('#df-186ec62f-7577-4435-ac91-7eb77023d977');\n",
              "          const dataTable =\n",
              "            await google.colab.kernel.invokeFunction('convertToInteractive',\n",
              "                                                     [key], {});\n",
              "          if (!dataTable) return;\n",
              "\n",
              "          const docLinkHtml = 'Like what you see? Visit the ' +\n",
              "            '<a target=\"_blank\" href=https://colab.research.google.com/notebooks/data_table.ipynb>data table notebook</a>'\n",
              "            + ' to learn more about interactive tables.';\n",
              "          element.innerHTML = '';\n",
              "          dataTable['output_type'] = 'display_data';\n",
              "          await google.colab.output.renderOutput(dataTable, element);\n",
              "          const docLink = document.createElement('div');\n",
              "          docLink.innerHTML = docLinkHtml;\n",
              "          element.appendChild(docLink);\n",
              "        }\n",
              "      </script>\n",
              "    </div>\n",
              "  </div>\n",
              "  "
            ]
          },
          "metadata": {},
          "execution_count": 56
        }
      ]
    },
    {
      "cell_type": "markdown",
      "source": [
        "**Нормальное распределение:**"
      ],
      "metadata": {
        "id": "geRxt1ns9PCe"
      }
    },
    {
      "cell_type": "markdown",
      "source": [
        "H0: Верно предположение о нормальном распределении.\n",
        "H1: Ложь.\n",
        "\n",
        "Если p-значение < 0,05, то мы отклоняем нулевую гипотезу в пользу альтернативной.\n",
        "\n",
        "Если p-значение > 0,05, то тогда мы принимаем нулевую гипотезу.\n",
        "\n"
      ],
      "metadata": {
        "id": "ztY2cCR09ZTh"
      }
    },
    {
      "cell_type": "markdown",
      "source": [
        " Контроль нормального распределения для gate_30:"
      ],
      "metadata": {
        "id": "tBYEdLSg-xPX"
      }
    },
    {
      "cell_type": "code",
      "source": [
        "test_stat, pvalue = shapiro(df.loc[df[\"version\"] == \"gate_30\", \"sum_gamerounds\"])\n",
        "print(\"Test Stat = %.4f, p-value = %.4f\" % (test_stat, pvalue))"
      ],
      "metadata": {
        "colab": {
          "base_uri": "https://localhost:8080/"
        },
        "id": "rvOElYkv-X55",
        "outputId": "b641ff34-abd0-4f7f-e3c1-de751d4b5f65"
      },
      "execution_count": 57,
      "outputs": [
        {
          "output_type": "stream",
          "name": "stdout",
          "text": [
            "Test Stat = 0.0881, p-value = 0.0000\n"
          ]
        },
        {
          "output_type": "stream",
          "name": "stderr",
          "text": [
            "/usr/local/lib/python3.9/dist-packages/scipy/stats/_morestats.py:1816: UserWarning: p-value may not be accurate for N > 5000.\n",
            "  warnings.warn(\"p-value may not be accurate for N > 5000.\")\n"
          ]
        }
      ]
    },
    {
      "cell_type": "markdown",
      "source": [
        "Контроль нормального распределения для gate_40:"
      ],
      "metadata": {
        "id": "Judi97Qr_obn"
      }
    },
    {
      "cell_type": "code",
      "source": [
        "test_stat, pvalue = shapiro(df.loc[df[\"version\"] == \"gate_40\", \"sum_gamerounds\"])\n",
        "print(\"Test Stat = %.4f, p-value = %.4f\" % (test_stat, pvalue))"
      ],
      "metadata": {
        "colab": {
          "base_uri": "https://localhost:8080/"
        },
        "id": "CSvu_hbh_0tm",
        "outputId": "1e06729d-b1c8-4393-9b45-b486035dbe0a"
      },
      "execution_count": 58,
      "outputs": [
        {
          "output_type": "stream",
          "name": "stdout",
          "text": [
            "Test Stat = 0.4826, p-value = 0.0000\n"
          ]
        }
      ]
    },
    {
      "cell_type": "markdown",
      "source": [
        "Вывод:"
      ],
      "metadata": {
        "id": "Qpfxnr_eAodA"
      }
    },
    {
      "cell_type": "markdown",
      "source": [
        "Поскольку для обеих групп (для gate_30 и gate_40 p-value<0.05, то мы можем сделать следующее заключение:\n",
        "\n",
        "НЕ верно предположение о нормальном распределении, для обоих групп."
      ],
      "metadata": {
        "id": "OLFk5HFfA3Ey"
      }
    },
    {
      "cell_type": "markdown",
      "source": [
        "**Допущение однородности дисперсии:**"
      ],
      "metadata": {
        "id": "bVeD_TtlDEHW"
      }
    },
    {
      "cell_type": "markdown",
      "source": [
        "Предположение об однородности дисперсии означает, что уровень дисперсии для конкретной переменной постоянен по всей выборке. Если мы собрали группы данных, это означает, что дисперсия нашей переменной (переменных) результата должна быть одинаковой в каждой из этих групп (т.е. по группам тестирования или прогнозируемым значениям)."
      ],
      "metadata": {
        "id": "98cu_VSCDO9c"
      }
    },
    {
      "cell_type": "markdown",
      "source": [
        "Предположение об однородности дисперсии:\n",
        "\n",
        "H0: Дисперсия однородна.\n",
        "\n",
        "H1: Дисперсия не является однородной.\n",
        "\n",
        "Если p-value < 0,05, то мы отвергаем нулевую гипотезу в пользу альтернативной\n",
        "\n",
        "Если p-value > 0,05, то тогды мы принимаем нулевую гипотезу."
      ],
      "metadata": {
        "id": "-YSHLNeFE9DX"
      }
    },
    {
      "cell_type": "code",
      "source": [
        "test_stat, pvalue = levene(df.loc[df[\"version\"] == \"gate_30\", \"sum_gamerounds\"],\n",
        "                            df.loc[df[\"version\"] == \"gate_40\", \"sum_gamerounds\"])\n",
        "print(\"Test Stat = %.4f, p-value = %.4f\" % (test_stat, pvalue))"
      ],
      "metadata": {
        "colab": {
          "base_uri": "https://localhost:8080/"
        },
        "id": "3_wbjKFBFvPo",
        "outputId": "88b49a8f-4cee-4d80-d662-16738ce36f92"
      },
      "execution_count": 59,
      "outputs": [
        {
          "output_type": "stream",
          "name": "stdout",
          "text": [
            "Test Stat = 0.5292, p-value = 0.4669\n"
          ]
        }
      ]
    },
    {
      "cell_type": "markdown",
      "source": [
        "**Вывод**:\n",
        "\n",
        "так как p-value >0.05, то дисперсия однородна."
      ],
      "metadata": {
        "id": "5SpDL2cPF7lo"
      }
    },
    {
      "cell_type": "markdown",
      "source": [
        "**Применение гипотез:**\n",
        "\n",
        "Согласно «Нормальному распределению» и «Предположению об однородности дисперсии» показано, что первый контроль НЕ принимает нулевую гипотезу, а второй принимает её. Это означает, что мы должны использовать команду mannwtihneyu() для применения гипотезы.\n",
        "\n",
        "Критерий Манна-Уитни основан на сравнении каждого наблюдения xi в первой выборке с каждым наблюдением yj в другой выборке. Общее количество попарных сравнений, которые можно сделать, равно nxny.1"
      ],
      "metadata": {
        "id": "DVStyNOcNGcX"
      }
    },
    {
      "cell_type": "code",
      "source": [
        "test_stat, pvalue = mannwhitneyu(df.loc[df[\"version\"] == \"gate_30\", \"sum_gamerounds\"],\n",
        "                            df.loc[df[\"version\"] == \"gate_40\", \"sum_gamerounds\"])\n",
        "print(\"Test Stat = %.4f, p-value = %.4f\" % (test_stat, pvalue))"
      ],
      "metadata": {
        "colab": {
          "base_uri": "https://localhost:8080/"
        },
        "id": "MLe7XNrrOCD-",
        "outputId": "9e7b8a42-3e09-4681-dec0-ab71021c782c"
      },
      "execution_count": 60,
      "outputs": [
        {
          "output_type": "stream",
          "name": "stdout",
          "text": [
            "Test Stat = 1024331250.5000, p-value = 0.0502\n"
          ]
        }
      ]
    },
    {
      "cell_type": "markdown",
      "source": [
        "**Вывод:**\n",
        "\n",
        "Так как p-value >0.05 то мы приманием нулевую гипотезу  о равенстве средних значений двух выборок.( т.е. между gate_30 и gate_40)"
      ],
      "metadata": {
        "id": "IBIaOAgzOYGC"
      }
    },
    {
      "cell_type": "markdown",
      "source": [
        "**ОТВЕТ**:\n",
        "\n",
        "Заключение и рекомендация.\n",
        "\n",
        "Согласно результатам A/B-тестирования, чтобы выяснить, как «gate_30» и «gate_40» влияют на общее количество игровых раундов, сыгранных в игре?\n",
        "\n",
        "В первом процессе тестирования мы спрашиваем, как «средства равны или нет» для примера, описанного выше. Чтобы выяснить это, сначала проверили нормальное распределение и предположение об однородности дисперсии, распределены ли они нормально или нет? A/B-тестирование говорит, что если нормальное распределение не равно, вам следует использовать U-критерий Манна-Уитни, чтобы выяснить влияние «gate_30» и «gate_40».\n",
        "\n",
        "Результат U-критерия Манна-Уитни, p-value рассчитано как 0,0502, и это означает, что нулевую невозможно отклонить в соответствии с предположением гипотезы, и его значение для A/B-тестирования, результаты для обоих групп(gate_30 и gate_40) были получены случайно."
      ],
      "metadata": {
        "id": "e5ucJ3rBQQUs"
      }
    },
    {
      "cell_type": "markdown",
      "source": [
        "Исходя из результатов эксперимента, мы не можем однозначно сказать, что использование «gate_30» или «gate_40» влияет на общее количество игровых раундов. Мы не можем отвергнуть гипотезу, что различия между группами случайны.\n",
        "\n",
        "Наша рекомендация для менеджера заключается в том, чтобы продолжать мониторить результаты и дополнительные данные эксперимента. Можно провести более широкие и продолжительные тесты, чтобы более полно оценить потенциальное влияние каждого «гейта» на игровой процесс. Также можно более подробно рассмотреть конкретные пользовательские данные, чтобы понять, есть ли какие-то сегменты пользователей, где один из «гейтов» работает лучше, чем другой."
      ],
      "metadata": {
        "id": "J9UD3HonUTZc"
      }
    }
  ]
}